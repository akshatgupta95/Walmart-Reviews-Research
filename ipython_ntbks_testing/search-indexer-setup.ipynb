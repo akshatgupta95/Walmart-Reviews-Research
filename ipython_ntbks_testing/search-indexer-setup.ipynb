{
 "cells": [
  {
   "cell_type": "code",
   "execution_count": 180,
   "metadata": {
    "collapsed": true
   },
   "outputs": [],
   "source": [
    "import string\n",
    "from collections import defaultdict"
   ]
  },
  {
   "cell_type": "code",
   "execution_count": 181,
   "metadata": {
    "collapsed": true
   },
   "outputs": [],
   "source": [
    "docs = [\n",
    "    'The battery life of this ipod is terrible. I hate the battery. I feel that there are better products out there.',\n",
    "    'I loved the screen resolution of the ipod. Very bright.',\n",
    "    'Long lasting battery that lasted lasted me 7 months. I play with it everyday and listen to music on the ipod.',\n",
    "    'Lots of games on the ipod. Very lasted enjoyable.',\n",
    "]"
   ]
  },
  {
   "cell_type": "code",
   "execution_count": 182,
   "metadata": {
    "collapsed": false
   },
   "outputs": [],
   "source": [
    "def create_term_to_pos_for_doc(doc_id):\n",
    "    term_to_pos = {}\n",
    "    terms = [s.translate(None, string.punctuation).lower() for s in docs[doc_id].split(' ')]\n",
    "    for idx, term in enumerate(terms):\n",
    "        if term in term_to_pos:\n",
    "            term_to_pos[term].append(idx)\n",
    "        else:\n",
    "            term_to_pos[term] = [idx]\n",
    "    return term_to_pos"
   ]
  },
  {
   "cell_type": "code",
   "execution_count": 183,
   "metadata": {
    "collapsed": false
   },
   "outputs": [],
   "source": [
    "def create_forward_index():\n",
    "    forward_index = {}\n",
    "    for doc_id in range(len(docs)):\n",
    "        forward_index[doc_id] = create_term_to_pos_for_doc(doc_id)\n",
    "    return forward_index"
   ]
  },
  {
   "cell_type": "code",
   "execution_count": 184,
   "metadata": {
    "collapsed": false
   },
   "outputs": [],
   "source": [
    "def create_inverted_index():\n",
    "    fwd_index = create_forward_index()\n",
    "    inverted_index = defaultdict(dict)\n",
    "    for doc_id in fwd_index.keys():\n",
    "        terms_to_pos = fwd_index[doc_id]\n",
    "        for term in terms_to_pos.keys():\n",
    "            pos = terms_to_pos[term]\n",
    "            if term in inverted_index.keys():\n",
    "                if doc_id in inverted_index[term]:  \n",
    "                    inverted_index[term][doc_id].extend(pos)\n",
    "                else:\n",
    "                    inverted_index[term][doc_id] = pos\n",
    "            else:\n",
    "                inverted_index[term] = {doc_id : pos}\n",
    "    return inverted_index"
   ]
  },
  {
   "cell_type": "code",
   "execution_count": 185,
   "metadata": {
    "collapsed": false
   },
   "outputs": [],
   "source": [
    "def _get_docs_simple_query(search_query):\n",
    "    inv_idx = create_inverted_index()\n",
    "    query_terms = [\n",
    "        q.translate(None, string.punctuation).lower()\n",
    "        for q in search_query.split(' ')\n",
    "    ]\n",
    "    retrieved_docs = []\n",
    "    for q_term in query_terms:\n",
    "        retrieved_docs.extend(\n",
    "            inv_idx[q_term].keys()\n",
    "        )\n",
    "    return list(set(retrieved_docs))\n",
    "\n",
    "def _get_docs_phrase_query(search_query):\n",
    "    inv_idx = create_inverted_index()\n",
    "    query_terms = [\n",
    "        q.translate(None, string.punctuation).lower()\n",
    "        for q in search_query.split(' ')\n",
    "    ]\n",
    "    \n",
    "    docs_to_pos = defaultdict(list)\n",
    "    for q_term in query_terms:\n",
    "        docs_to_pos_q_term = inv_idx[q_term]\n",
    "        for doc_id in docs_to_pos_q_term.keys():\n",
    "            if doc_id in docs_to_pos.keys():\n",
    "                docs_to_pos[doc_id].append(docs_to_pos_q_term[doc_id])\n",
    "            else:\n",
    "                docs_to_pos[doc_id] = [docs_to_pos_q_term[doc_id]]\n",
    "\n",
    "    for doc_id in docs_to_pos.keys():\n",
    "        pos = docs_to_pos[doc_id]\n",
    "        for idx, pos_list in enumerate(pos):\n",
    "            for i in range(len(pos_list)):\n",
    "                pos_list[i] -= idx\n",
    "    \n",
    "    retrieved_docs = []\n",
    "    \n",
    "    for doc_id in docs_to_pos.keys():\n",
    "        pos_list = docs_to_pos[doc_id]\n",
    "        if len(pos_list) >= 2:\n",
    "            intersection = set(pos_list[0])\n",
    "            for p in pos_list[1:]:\n",
    "                intersection = intersection & set(p)\n",
    "            if len(intersection) >= 1:\n",
    "                retrieved_docs.append(doc_id)\n",
    "                \n",
    "    return retrieved_docs\n",
    "\n",
    "def get_docs(search_query, search_type='simple_query'):\n",
    "    if search_type=='simple_query' or len(search_query.split(' ')) < 2:\n",
    "        return _get_docs_simple_query(search_query)\n",
    "    else:\n",
    "        return _get_docs_phrase_query(search_query)"
   ]
  },
  {
   "cell_type": "code",
   "execution_count": 186,
   "metadata": {
    "collapsed": false
   },
   "outputs": [
    {
     "data": {
      "text/plain": [
       "[0, 1, 2, 3]"
      ]
     },
     "execution_count": 186,
     "metadata": {},
     "output_type": "execute_result"
    }
   ],
   "source": [
    "get_docs('the ipod', search_type='simple_query')"
   ]
  },
  {
   "cell_type": "code",
   "execution_count": 188,
   "metadata": {
    "collapsed": false
   },
   "outputs": [
    {
     "data": {
      "text/plain": [
       "[3]"
      ]
     },
     "execution_count": 188,
     "metadata": {},
     "output_type": "execute_result"
    }
   ],
   "source": [
    "get_docs('lasted enjoyable', search_type='phrase_query')"
   ]
  }
 ],
 "metadata": {
  "kernelspec": {
   "display_name": "Python 2",
   "language": "python",
   "name": "python2"
  },
  "language_info": {
   "codemirror_mode": {
    "name": "ipython",
    "version": 2
   },
   "file_extension": ".py",
   "mimetype": "text/x-python",
   "name": "python",
   "nbconvert_exporter": "python",
   "pygments_lexer": "ipython2",
   "version": "2.7.12"
  }
 },
 "nbformat": 4,
 "nbformat_minor": 0
}
