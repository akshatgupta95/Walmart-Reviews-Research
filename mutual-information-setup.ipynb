{
 "cells": [
  {
   "cell_type": "code",
   "execution_count": 50,
   "metadata": {
    "collapsed": true
   },
   "outputs": [],
   "source": [
    "from collections import defaultdict\n",
    "from sklearn.metrics import mutual_info_score\n",
    "import numpy as np\n",
    "import operator\n",
    "import re"
   ]
  },
  {
   "cell_type": "code",
   "execution_count": 26,
   "metadata": {
    "collapsed": true
   },
   "outputs": [],
   "source": [
    "txt_data = [\n",
    "    \"It has a long battery life. this is a very good thing to buy if you don't want your child to have a phone, but they want to be able to contact their friends, listen to music, or play games. They don't break by themselves, so if something goes wrong, there is a defect, it was handled incorrectly, or you/ your child did something to mess it up. I recommend a protective case and a screen protector. You can download about 10-15 apps, and a lot of songs. But it does have little storage, so make sure you put the photos on your computer. if you are using it for taking pictures and videos or wants a lot of apps or songs, i recommend 36 or 64 gb. enjoy!\",\n",
    "    \"So far I'm extremely disappointed with this iPod Touch. I find it much more difficult to use. I do not find it user friendly. I feel that I should have simply purchased an iPhone instead of this product. I upgrade from the classic iPod which is still in my opinion amazing and I will probably continue to use. So far I am not happy with this iPod Touch and would not recommend it to anyone\",\n",
    "    \"received this iPod for Christmas (2016)! It works great and takes perfect photos. I love the fact that I can facetime with any other Apple phone. I'm still getting familiar with all the things I can do with it. The only downside is that it did not come with a charging block. Luckily, we have plenty extras. So far it works great and I am very pleased. The gold display is perfect. So, I am going to give this iPod five stars. Maddy 11 years old.\",\n",
    "    \"I love my iPod touch so much! I use it for basically everything-even as a mini iPhone. But I do think the screen is a little small, but for now it will work-I'm getting an iPad-but I simply love it! If you are looking for a great device for your littler children or teens or tweens or even an adult I highly reccomend-and I have a tip for you-for your littler children, you probably don't want them to be on the internet sometimes when you can't supervise, there's a way to take Safari on and off. I really recommend this iPod to everyone, especially children!\",\n",
    "    \"Battery life is really long. I just bought this iPod touch today and it's my first real iPod. I have a friend who has had this iPod for a long time and he loves his too. It is very small which can be a pro to some and a con to others (for me it's a con but I'll get used to it). I love that I can clear up the space from my iPhone 6s Plus by moving all my music and games over to this iPod and using the phone just for texting and calling.\"\n",
    "]"
   ]
  },
  {
   "cell_type": "code",
   "execution_count": 27,
   "metadata": {
    "collapsed": false
   },
   "outputs": [],
   "source": [
    "vocab = set()\n",
    "doc_term = defaultdict(dict)\n",
    "for txt in txt_data:\n",
    "    terms = [re.sub(r'[^\\w\\s]','',s).lower() for s in txt.split(' ')]\n",
    "    vocab = vocab.union(terms)\n",
    "    \n",
    "for word in vocab:\n",
    "    for doc_id in range(len(txt_data)):\n",
    "        if doc_id not in doc_term.keys():\n",
    "            doc_term[doc_id] = defaultdict(int)\n",
    "        doc_term[doc_id][word] = 0\n",
    "\n",
    "for word in vocab:\n",
    "    for doc_id, txt in enumerate(txt_data):\n",
    "        terms = [re.sub(r'[^\\w\\s]','',s).lower() for s in txt.split(' ')]\n",
    "        if word in terms:\n",
    "            doc_term[doc_id][word] = 1"
   ]
  },
  {
   "cell_type": "code",
   "execution_count": 39,
   "metadata": {
    "collapsed": false
   },
   "outputs": [],
   "source": [
    "w1 = 'battery'\n",
    "N = len(doc_term.keys())\n",
    "\n",
    "info_pairs = []\n",
    "for w2 in vocab:\n",
    "    p_X_w1_1 = 0\n",
    "    p_X_w2_1 = 0\n",
    "    p_X_w1_1_w2_1 = 0\n",
    "    for doc_id in doc_term.keys():\n",
    "        w1_present = False\n",
    "        w2_present = False\n",
    "        if doc_term[doc_id][w1] > 0:\n",
    "            w1_present = True\n",
    "            p_X_w1_1 += 1\n",
    "        if doc_term[doc_id][w2] > 0:\n",
    "            w2_present = True\n",
    "            p_X_w2_1 += 1\n",
    "        if w1_present and w2_present:\n",
    "            p_X_w1_1_w2_1 += 1\n",
    "\n",
    "    # P(X_w1 = 1)\n",
    "    p_X_w1_1 = (p_X_w1_1 + 0.05) / (float(N) + 1)\n",
    "\n",
    "    # P(X_w2 = 1)\n",
    "    p_X_w2_1 = (p_X_w2_1 + 0.05) / (float(N) + 1)\n",
    "\n",
    "    # P(X_w1=1, X_w2=1)\n",
    "    p_X_w1_1_w2_1 = (p_X_w1_1_w2_1 + 0.025) / (float(N) + 1)\n",
    "\n",
    "    # P(X_w1 = 0) = 1 - P(X_w1 = 1)\n",
    "    p_X_w1_0 = 1. - p_X_w1_1\n",
    "\n",
    "    # P(X_w2 = 0) = 1 - P(X_w2 = 1)\n",
    "    p_X_w2_0 = 1. - p_X_w2_1\n",
    "\n",
    "    # P(X_w1=1, X_w2=0) + P(X_w1=1, X_w2=1) = P(X_w1=1)\n",
    "    p_X_w1_1_w2_0 = p_X_w1_1 - p_X_w1_1_w2_1\n",
    "\n",
    "    # P(X_w1=0, X_w2=1) + P(X_w1=1, X_w2=1) = P(X_w2=1)\n",
    "    p_X_w1_0_w2_1 = p_X_w2_1 - p_X_w1_1_w2_1\n",
    "\n",
    "    # P(X_w1=0, X_w2=0) + P(X_w1=0, X_w2=1) = P(X_w1=0)\n",
    "    p_X_w1_0_w2_0 = p_X_w1_0 - p_X_w1_0_w2_1\n",
    "    \n",
    "    I_w1_w2 = (p_X_w1_1_w2_1 * np.log2(p_X_w1_1_w2_1 / (p_X_w1_1 * p_X_w2_1))) +\\\n",
    "            (p_X_w1_0_w2_0 * np.log2(p_X_w1_0_w2_0 / (p_X_w1_0 * p_X_w2_0))) +\\\n",
    "            (p_X_w1_1_w2_0 * np.log2(p_X_w1_1_w2_0 / (p_X_w1_1 * p_X_w2_0))) +\\\n",
    "            (p_X_w1_0_w2_1 * np.log2(p_X_w1_0_w2_1 / (p_X_w1_0 * p_X_w2_1)))\n",
    "    \n",
    "    info_pairs.append((I_w1_w2, w2))"
   ]
  },
  {
   "cell_type": "code",
   "execution_count": 40,
   "metadata": {
    "collapsed": false
   },
   "outputs": [
    {
     "data": {
      "text/plain": [
       "[(0.85751585655980955, 'has'),\n",
       " (0.85751585655980955, 'using'),\n",
       " (0.85751585655980955, 'battery'),\n",
       " (0.85751585655980955, 'by'),\n",
       " (0.85751585655980955, 'games'),\n",
       " (0.85751585655980955, 'long'),\n",
       " (0.85751585655980955, 'music'),\n",
       " (0.85751585655980955, 'life'),\n",
       " (0.85751585655980955, 'up'),\n",
       " (0.45039734091734007, 'do')]"
      ]
     },
     "execution_count": 40,
     "metadata": {},
     "output_type": "execute_result"
    }
   ],
   "source": [
    "sorted(info_pairs, key=lambda x:x[0], reverse=True)[:10]"
   ]
  },
  {
   "cell_type": "code",
   "execution_count": 30,
   "metadata": {
    "collapsed": false
   },
   "outputs": [],
   "source": [
    "w1 = 'christmas'\n",
    "N = len(doc_term.keys())\n",
    "\n",
    "# 1 0\n",
    "#1\n",
    "#0\n",
    "info_pairs = []\n",
    "for w2 in vocab:\n",
    "    cont_mat = np.array([[0, 0], [0, 0]])\n",
    "    for doc_id in doc_term.keys():\n",
    "        if doc_term[doc_id][w1] > 0 and doc_term[doc_id][w2] > 0:\n",
    "            cont_mat[0][0] += 1\n",
    "        elif doc_term[doc_id][w1] > 0 and doc_term[doc_id][w2] == 0:\n",
    "            cont_mat[0][1] += 1\n",
    "        elif doc_term[doc_id][w1] == 0 and doc_term[doc_id][w2] > 0:\n",
    "            cont_mat[1][0] += 1\n",
    "        else:\n",
    "            cont_mat[1][1] += 1\n",
    "    info_pairs.append((mutual_info_score(None, None, contingency=cont_mat), w2))"
   ]
  },
  {
   "cell_type": "code",
   "execution_count": 31,
   "metadata": {
    "collapsed": false
   },
   "outputs": [
    {
     "data": {
      "text/plain": [
       "[(0.50040242353818787, 'gold'),\n",
       " (0.50040242353818787, 'years'),\n",
       " (0.50040242353818787, 'pleased'),\n",
       " (0.50040242353818787, 'perfect'),\n",
       " (0.50040242353818787, 'only'),\n",
       " (0.50040242353818787, 'going'),\n",
       " (0.50040242353818787, 'familiar'),\n",
       " (0.50040242353818787, 'five'),\n",
       " (0.50040242353818787, 'works'),\n",
       " (0.50040242353818787, 'extras')]"
      ]
     },
     "execution_count": 31,
     "metadata": {},
     "output_type": "execute_result"
    }
   ],
   "source": [
    "sorted(info_pairs, key=lambda x:x[0], reverse=True)[:10]"
   ]
  },
  {
   "cell_type": "code",
   "execution_count": 32,
   "metadata": {
    "collapsed": false
   },
   "outputs": [],
   "source": [
    "N = len(doc_term.keys())\n",
    "\n",
    "# 1 0\n",
    "#1\n",
    "#0\n",
    "info_pairs = defaultdict(dict)\n",
    "for w1 in vocab:\n",
    "    for w2 in vocab:\n",
    "        cont_mat = np.array([[0, 0], [0, 0]])\n",
    "        for doc_id in doc_term.keys():\n",
    "            if doc_term[doc_id][w1] > 0 and doc_term[doc_id][w2] > 0:\n",
    "                cont_mat[0][0] += 1\n",
    "            elif doc_term[doc_id][w1] > 0 and doc_term[doc_id][w2] == 0:\n",
    "                cont_mat[0][1] += 1\n",
    "            elif doc_term[doc_id][w1] == 0 and doc_term[doc_id][w2] > 0:\n",
    "                cont_mat[1][0] += 1\n",
    "            else:\n",
    "                cont_mat[1][1] += 1\n",
    "        mut_w1_w2 = mutual_info_score(None, None, contingency=cont_mat)\n",
    "        info_pairs[w1][w2] = mut_w1_w2"
   ]
  },
  {
   "cell_type": "code",
   "execution_count": 65,
   "metadata": {
    "collapsed": false
   },
   "outputs": [],
   "source": [
    "N = len(doc_term.keys())\n",
    "\n",
    "info_pairs = defaultdict(dict)\n",
    "for w1 in vocab:\n",
    "    for w2 in vocab:\n",
    "        p_X_w1_1 = 0\n",
    "        p_X_w2_1 = 0\n",
    "        p_X_w1_1_w2_1 = 0\n",
    "        for doc_id in doc_term.keys():\n",
    "            w1_present = False\n",
    "            w2_present = False\n",
    "            if doc_term[doc_id][w1] > 0:\n",
    "                w1_present = True\n",
    "                p_X_w1_1 += 1\n",
    "            if doc_term[doc_id][w2] > 0:\n",
    "                w2_present = True\n",
    "                p_X_w2_1 += 1\n",
    "            if w1_present and w2_present:\n",
    "                p_X_w1_1_w2_1 += 1\n",
    "\n",
    "        # P(X_w1 = 1)\n",
    "        p_X_w1_1 = (p_X_w1_1 + 0.5) / (float(N) + 1)\n",
    "\n",
    "        # P(X_w2 = 1)\n",
    "        p_X_w2_1 = (p_X_w2_1 + 0.5) / (float(N) + 1)\n",
    "\n",
    "        # P(X_w1=1, X_w2=1)\n",
    "        p_X_w1_1_w2_1 = (p_X_w1_1_w2_1 + 0.25) / (float(N) + 1)\n",
    "\n",
    "        # P(X_w1 = 0) = 1 - P(X_w1 = 1)\n",
    "        p_X_w1_0 = 1. - p_X_w1_1\n",
    "\n",
    "        # P(X_w2 = 0) = 1 - P(X_w2 = 1)\n",
    "        p_X_w2_0 = 1. - p_X_w2_1\n",
    "\n",
    "        # P(X_w1=1, X_w2=0) + P(X_w1=1, X_w2=1) = P(X_w1=1)\n",
    "        p_X_w1_1_w2_0 = p_X_w1_1 - p_X_w1_1_w2_1\n",
    "\n",
    "        # P(X_w1=0, X_w2=1) + P(X_w1=1, X_w2=1) = P(X_w2=1)\n",
    "        p_X_w1_0_w2_1 = p_X_w2_1 - p_X_w1_1_w2_1\n",
    "\n",
    "        # P(X_w1=0, X_w2=0) + P(X_w1=0, X_w2=1) = P(X_w1=0)\n",
    "        p_X_w1_0_w2_0 = p_X_w1_0 - p_X_w1_0_w2_1\n",
    "\n",
    "        I_w1_w2 = (p_X_w1_1_w2_1 * np.log2(p_X_w1_1_w2_1 / (p_X_w1_1 * p_X_w2_1))) +\\\n",
    "                (p_X_w1_0_w2_0 * np.log2(p_X_w1_0_w2_0 / (p_X_w1_0 * p_X_w2_0))) +\\\n",
    "                (p_X_w1_1_w2_0 * np.log2(p_X_w1_1_w2_0 / (p_X_w1_1 * p_X_w2_0))) +\\\n",
    "                (p_X_w1_0_w2_1 * np.log2(p_X_w1_0_w2_1 / (p_X_w1_0 * p_X_w2_1)))\n",
    "\n",
    "        info_pairs[w1][w2] = I_w1_w2"
   ]
  },
  {
   "cell_type": "code",
   "execution_count": 67,
   "metadata": {
    "collapsed": false
   },
   "outputs": [
    {
     "name": "stdout",
     "output_type": "stream",
     "text": [
      "['years', 'pleased', 'apple', 'perfect', 'gold', 'only', 'going', 'familiar', 'five', 'works']\n"
     ]
    }
   ],
   "source": [
    "search_q = 'christmas'\n",
    "search_terms = search_q.split(' ')\n",
    "for s_t in search_terms:\n",
    "    sorted_mut_infos = sorted(info_pairs[s_t].items(), key=lambda x:x[1], reverse=True)[:10]\n",
    "    mut_assoc_words = [c[0] for c in sorted_mut_infos]\n",
    "    print (mut_assoc_words)"
   ]
  },
  {
   "cell_type": "code",
   "execution_count": null,
   "metadata": {
    "collapsed": false
   },
   "outputs": [],
   "source": []
  },
  {
   "cell_type": "code",
   "execution_count": null,
   "metadata": {
    "collapsed": true
   },
   "outputs": [],
   "source": []
  }
 ],
 "metadata": {
  "kernelspec": {
   "display_name": "Python 2",
   "language": "python",
   "name": "python2"
  },
  "language_info": {
   "codemirror_mode": {
    "name": "ipython",
    "version": 2
   },
   "file_extension": ".py",
   "mimetype": "text/x-python",
   "name": "python",
   "nbconvert_exporter": "python",
   "pygments_lexer": "ipython2",
   "version": "2.7.12"
  }
 },
 "nbformat": 4,
 "nbformat_minor": 0
}
