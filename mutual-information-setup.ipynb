{
 "cells": [
  {
   "cell_type": "code",
   "execution_count": 11,
   "metadata": {
    "collapsed": true
   },
   "outputs": [],
   "source": [
    "from collections import defaultdict\n",
    "from collections import Counter\n",
    "from sklearn.metrics import mutual_info_score\n",
    "import numpy as np\n",
    "import operator\n",
    "import re"
   ]
  },
  {
   "cell_type": "code",
   "execution_count": 2,
   "metadata": {
    "collapsed": true
   },
   "outputs": [],
   "source": [
    "txt_data = [\n",
    "    \"It has a long battery life. this is a very good thing to buy if you don't want your child to have a phone, but they want to be able to contact their friends, listen to music, or play games. They don't break by themselves, so if something goes wrong, there is a defect, it was handled incorrectly, or you/ your child did something to mess it up. I recommend a protective case and a screen protector. You can download about 10-15 apps, and a lot of songs. But it does have little storage, so make sure you put the photos on your computer. if you are using it for taking pictures and videos or wants a lot of apps or songs, i recommend 36 or 64 gb. enjoy!\",\n",
    "    \"So far I'm extremely disappointed with this iPod Touch. I find it much more difficult to use. I do not find it user friendly. I feel that I should have simply purchased an iPhone instead of this product. I upgrade from the classic iPod which is still in my opinion amazing and I will probably continue to use. So far I am not happy with this iPod Touch and would not recommend it to anyone\",\n",
    "    \"received this iPod for Christmas (2016)! It works great and takes perfect photos. I love the fact that I can facetime with any other Apple phone. I'm still getting familiar with all the things I can do with it. The only downside is that it did not come with a charging block. Luckily, we have plenty extras. So far it works great and I am very pleased. The gold display is perfect. So, I am going to give this iPod five stars. Maddy 11 years old.\",\n",
    "    \"I love my iPod touch so much! I use it for basically everything-even as a mini iPhone. But I do think the screen is a little small, but for now it will work-I'm getting an iPad-but I simply love it! If you are looking for a great device for your littler children or teens or tweens or even an adult I highly reccomend-and I have a tip for you-for your littler children, you probably don't want them to be on the internet sometimes when you can't supervise, there's a way to take Safari on and off. I really recommend this iPod to everyone, especially children!\",\n",
    "    \"Battery life is really long. I just bought this iPod touch today and it's my first real iPod. I have a friend who has had this iPod for a long time and he loves his too. It is very small which can be a pro to some and a con to others (for me it's a con but I'll get used to it). I love that I can clear up the space from my iPhone 6s Plus by moving all my music and games over to this iPod and using the phone just for texting and calling.\"\n",
    "]"
   ]
  },
  {
   "cell_type": "code",
   "execution_count": 3,
   "metadata": {
    "collapsed": false
   },
   "outputs": [],
   "source": [
    "vocab = set()\n",
    "doc_term = defaultdict(dict)\n",
    "for txt in txt_data:\n",
    "    terms = [re.sub(r'[^\\w\\s]','',s).lower() for s in txt.split(' ')]\n",
    "    vocab = vocab.union(terms)\n",
    "    \n",
    "for word in vocab:\n",
    "    for doc_id in range(len(txt_data)):\n",
    "        if doc_id not in doc_term.keys():\n",
    "            doc_term[doc_id] = defaultdict(int)\n",
    "        doc_term[doc_id][word] = 0\n",
    "\n",
    "for word in vocab:\n",
    "    for doc_id, txt in enumerate(txt_data):\n",
    "        terms = [re.sub(r'[^\\w\\s]','',s).lower() for s in txt.split(' ')]\n",
    "        if word in terms:\n",
    "            doc_term[doc_id][word] = 1"
   ]
  },
  {
   "cell_type": "code",
   "execution_count": 4,
   "metadata": {
    "collapsed": false
   },
   "outputs": [],
   "source": [
    "w1 = 'christmas'\n",
    "N = len(doc_term.keys())\n",
    "\n",
    "info_pairs = []\n",
    "for w2 in vocab:\n",
    "    p_X_w1_1 = 0\n",
    "    p_X_w2_1 = 0\n",
    "    p_X_w1_1_w2_1 = 0\n",
    "    for doc_id in doc_term.keys():\n",
    "        w1_present = False\n",
    "        w2_present = False\n",
    "        if doc_term[doc_id][w1] > 0:\n",
    "            w1_present = True\n",
    "            p_X_w1_1 += 1\n",
    "        if doc_term[doc_id][w2] > 0:\n",
    "            w2_present = True\n",
    "            p_X_w2_1 += 1\n",
    "        if w1_present and w2_present:\n",
    "            p_X_w1_1_w2_1 += 1\n",
    "\n",
    "    # P(X_w1 = 1)\n",
    "    p_X_w1_1 = (p_X_w1_1 + 0.5) / (float(N) + 1)\n",
    "\n",
    "    # P(X_w2 = 1)\n",
    "    p_X_w2_1 = (p_X_w2_1 + 0.5) / (float(N) + 1)\n",
    "\n",
    "    # P(X_w1=1, X_w2=1)\n",
    "    p_X_w1_1_w2_1 = (p_X_w1_1_w2_1 + 0.25) / (float(N) + 1)\n",
    "\n",
    "    # P(X_w1 = 0) = 1 - P(X_w1 = 1)\n",
    "    p_X_w1_0 = 1. - p_X_w1_1\n",
    "\n",
    "    # P(X_w2 = 0) = 1 - P(X_w2 = 1)\n",
    "    p_X_w2_0 = 1. - p_X_w2_1\n",
    "\n",
    "    # P(X_w1=1, X_w2=0) + P(X_w1=1, X_w2=1) = P(X_w1=1)\n",
    "    p_X_w1_1_w2_0 = p_X_w1_1 - p_X_w1_1_w2_1\n",
    "\n",
    "    # P(X_w1=0, X_w2=1) + P(X_w1=1, X_w2=1) = P(X_w2=1)\n",
    "    p_X_w1_0_w2_1 = p_X_w2_1 - p_X_w1_1_w2_1\n",
    "\n",
    "    # P(X_w1=0, X_w2=0) + P(X_w1=0, X_w2=1) = P(X_w1=0)\n",
    "    p_X_w1_0_w2_0 = p_X_w1_0 - p_X_w1_0_w2_1\n",
    "    \n",
    "    I_w1_w2 = (p_X_w1_1_w2_1 * np.log2(p_X_w1_1_w2_1 / (p_X_w1_1 * p_X_w2_1))) +\\\n",
    "            (p_X_w1_0_w2_0 * np.log2(p_X_w1_0_w2_0 / (p_X_w1_0 * p_X_w2_0))) +\\\n",
    "            (p_X_w1_1_w2_0 * np.log2(p_X_w1_1_w2_0 / (p_X_w1_1 * p_X_w2_0))) +\\\n",
    "            (p_X_w1_0_w2_1 * np.log2(p_X_w1_0_w2_1 / (p_X_w1_0 * p_X_w2_1)))\n",
    "    \n",
    "    info_pairs.append((I_w1_w2, w2))"
   ]
  },
  {
   "cell_type": "code",
   "execution_count": 5,
   "metadata": {
    "collapsed": false
   },
   "outputs": [
    {
     "data": {
      "text/plain": [
       "[(0.41661494718430053, 'gold'),\n",
       " (0.41661494718430053, 'years'),\n",
       " (0.41661494718430053, 'pleased'),\n",
       " (0.41661494718430053, 'perfect'),\n",
       " (0.41661494718430053, 'only'),\n",
       " (0.41661494718430053, 'going'),\n",
       " (0.41661494718430053, 'familiar'),\n",
       " (0.41661494718430053, 'five'),\n",
       " (0.41661494718430053, 'works'),\n",
       " (0.41661494718430053, 'extras')]"
      ]
     },
     "execution_count": 5,
     "metadata": {},
     "output_type": "execute_result"
    }
   ],
   "source": [
    "sorted(info_pairs, key=lambda x:x[0], reverse=True)[:10]"
   ]
  },
  {
   "cell_type": "code",
   "execution_count": 6,
   "metadata": {
    "collapsed": false
   },
   "outputs": [],
   "source": [
    "w1 = 'christmas'\n",
    "N = len(doc_term.keys())\n",
    "\n",
    "# 1 0\n",
    "#1\n",
    "#0\n",
    "info_pairs = []\n",
    "for w2 in vocab:\n",
    "    cont_mat = np.array([[0, 0], [0, 0]])\n",
    "    for doc_id in doc_term.keys():\n",
    "        if doc_term[doc_id][w1] > 0 and doc_term[doc_id][w2] > 0:\n",
    "            cont_mat[0][0] += 1\n",
    "        elif doc_term[doc_id][w1] > 0 and doc_term[doc_id][w2] == 0:\n",
    "            cont_mat[0][1] += 1\n",
    "        elif doc_term[doc_id][w1] == 0 and doc_term[doc_id][w2] > 0:\n",
    "            cont_mat[1][0] += 1\n",
    "        else:\n",
    "            cont_mat[1][1] += 1\n",
    "    info_pairs.append((mutual_info_score(None, None, contingency=cont_mat), w2))"
   ]
  },
  {
   "cell_type": "code",
   "execution_count": 7,
   "metadata": {
    "collapsed": false
   },
   "outputs": [
    {
     "data": {
      "text/plain": [
       "[(0.50040242353818787, 'gold'),\n",
       " (0.50040242353818787, 'years'),\n",
       " (0.50040242353818787, 'pleased'),\n",
       " (0.50040242353818787, 'perfect'),\n",
       " (0.50040242353818787, 'only'),\n",
       " (0.50040242353818787, 'going'),\n",
       " (0.50040242353818787, 'familiar'),\n",
       " (0.50040242353818787, 'five'),\n",
       " (0.50040242353818787, 'works'),\n",
       " (0.50040242353818787, 'extras')]"
      ]
     },
     "execution_count": 7,
     "metadata": {},
     "output_type": "execute_result"
    }
   ],
   "source": [
    "sorted(info_pairs, key=lambda x:x[0], reverse=True)[:10]"
   ]
  },
  {
   "cell_type": "code",
   "execution_count": 8,
   "metadata": {
    "collapsed": false
   },
   "outputs": [],
   "source": [
    "N = len(doc_term.keys())\n",
    "\n",
    "# 1 0\n",
    "#1\n",
    "#0\n",
    "info_pairs = defaultdict(dict)\n",
    "for w1 in vocab:\n",
    "    for w2 in vocab:\n",
    "        cont_mat = np.array([[0, 0], [0, 0]])\n",
    "        for doc_id in doc_term.keys():\n",
    "            if doc_term[doc_id][w1] > 0 and doc_term[doc_id][w2] > 0:\n",
    "                cont_mat[0][0] += 1\n",
    "            elif doc_term[doc_id][w1] > 0 and doc_term[doc_id][w2] == 0:\n",
    "                cont_mat[0][1] += 1\n",
    "            elif doc_term[doc_id][w1] == 0 and doc_term[doc_id][w2] > 0:\n",
    "                cont_mat[1][0] += 1\n",
    "            else:\n",
    "                cont_mat[1][1] += 1\n",
    "        mut_w1_w2 = mutual_info_score(None, None, contingency=cont_mat)\n",
    "        info_pairs[w1][w2] = mut_w1_w2"
   ]
  },
  {
   "cell_type": "code",
   "execution_count": 9,
   "metadata": {
    "collapsed": false
   },
   "outputs": [],
   "source": [
    "N = len(doc_term.keys())\n",
    "\n",
    "info_pairs = defaultdict(dict)\n",
    "for w1 in vocab:\n",
    "    for w2 in vocab:\n",
    "        p_X_w1_1 = 0\n",
    "        p_X_w2_1 = 0\n",
    "        p_X_w1_1_w2_1 = 0\n",
    "        for doc_id in doc_term.keys():\n",
    "            w1_present = False\n",
    "            w2_present = False\n",
    "            if doc_term[doc_id][w1] > 0:\n",
    "                w1_present = True\n",
    "                p_X_w1_1 += 1\n",
    "            if doc_term[doc_id][w2] > 0:\n",
    "                w2_present = True\n",
    "                p_X_w2_1 += 1\n",
    "            if w1_present and w2_present:\n",
    "                p_X_w1_1_w2_1 += 1\n",
    "\n",
    "        # P(X_w1 = 1)\n",
    "        p_X_w1_1 = (p_X_w1_1 + 0.5) / (float(N) + 1)\n",
    "\n",
    "        # P(X_w2 = 1)\n",
    "        p_X_w2_1 = (p_X_w2_1 + 0.5) / (float(N) + 1)\n",
    "\n",
    "        # P(X_w1=1, X_w2=1)\n",
    "        p_X_w1_1_w2_1 = (p_X_w1_1_w2_1 + 0.25) / (float(N) + 1)\n",
    "\n",
    "        # P(X_w1 = 0) = 1 - P(X_w1 = 1)\n",
    "        p_X_w1_0 = 1. - p_X_w1_1\n",
    "\n",
    "        # P(X_w2 = 0) = 1 - P(X_w2 = 1)\n",
    "        p_X_w2_0 = 1. - p_X_w2_1\n",
    "\n",
    "        # P(X_w1=1, X_w2=0) + P(X_w1=1, X_w2=1) = P(X_w1=1)\n",
    "        p_X_w1_1_w2_0 = p_X_w1_1 - p_X_w1_1_w2_1\n",
    "\n",
    "        # P(X_w1=0, X_w2=1) + P(X_w1=1, X_w2=1) = P(X_w2=1)\n",
    "        p_X_w1_0_w2_1 = p_X_w2_1 - p_X_w1_1_w2_1\n",
    "\n",
    "        # P(X_w1=0, X_w2=0) + P(X_w1=0, X_w2=1) = P(X_w1=0)\n",
    "        p_X_w1_0_w2_0 = p_X_w1_0 - p_X_w1_0_w2_1\n",
    "\n",
    "        I_w1_w2 = (p_X_w1_1_w2_1 * np.log2(p_X_w1_1_w2_1 / (p_X_w1_1 * p_X_w2_1))) +\\\n",
    "                (p_X_w1_0_w2_0 * np.log2(p_X_w1_0_w2_0 / (p_X_w1_0 * p_X_w2_0))) +\\\n",
    "                (p_X_w1_1_w2_0 * np.log2(p_X_w1_1_w2_0 / (p_X_w1_1 * p_X_w2_0))) +\\\n",
    "                (p_X_w1_0_w2_1 * np.log2(p_X_w1_0_w2_1 / (p_X_w1_0 * p_X_w2_1)))\n",
    "\n",
    "        info_pairs[w1][w2] = I_w1_w2"
   ]
  },
  {
   "cell_type": "code",
   "execution_count": 10,
   "metadata": {
    "collapsed": false
   },
   "outputs": [],
   "source": [
    "search_q = 'battery life'\n",
    "search_terms = search_q.split(' ')\n",
    "all_info = defaultdict(int)\n",
    "for s_t in search_terms:\n",
    "    if s_t not in info_pairs.keys():\n",
    "        continue\n",
    "    sorted_mut_infos = sorted(info_pairs[s_t].items(), key=lambda x:x[1], reverse=True)[:10]\n",
    "    mut_assoc_words = [c[0] for c in sorted_mut_infos]\n",
    "    for word in mut_assoc_words:\n",
    "        all_info[word] += 1\n",
    "info = [c[0] for c in sorted(all_info.items(), key=lambda x:x[1], reverse=True)[:10]]"
   ]
  },
  {
   "cell_type": "code",
   "execution_count": 12,
   "metadata": {
    "collapsed": false
   },
   "outputs": [],
   "source": [
    "generated_text = \"\"\n",
    "word_counts = defaultdict(int)\n",
    "for word in info:\n",
    "    count = 0\n",
    "    for txt in txt_data:\n",
    "        terms = [re.sub(r'[^\\w\\s]','',s).lower() for s in txt.split(' ')]\n",
    "        for term in terms:\n",
    "            if term == word:\n",
    "                word_counts[word] += 1"
   ]
  },
  {
   "cell_type": "code",
   "execution_count": 13,
   "metadata": {
    "collapsed": false
   },
   "outputs": [
    {
     "data": {
      "text/plain": [
       "defaultdict(<type 'int'>, {'do': 3, 'life': 2, 'battery': 2, 'up': 2, 'long': 3, 'music': 2, 'using': 2, 'games': 2, 'has': 2, 'by': 2})"
      ]
     },
     "execution_count": 13,
     "metadata": {},
     "output_type": "execute_result"
    }
   ],
   "source": [
    "word_counts"
   ]
  },
  {
   "cell_type": "code",
   "execution_count": null,
   "metadata": {
    "collapsed": true
   },
   "outputs": [],
   "source": []
  }
 ],
 "metadata": {
  "kernelspec": {
   "display_name": "Python 2",
   "language": "python",
   "name": "python2"
  },
  "language_info": {
   "codemirror_mode": {
    "name": "ipython",
    "version": 2
   },
   "file_extension": ".py",
   "mimetype": "text/x-python",
   "name": "python",
   "nbconvert_exporter": "python",
   "pygments_lexer": "ipython2",
   "version": "2.7.12"
  }
 },
 "nbformat": 4,
 "nbformat_minor": 0
}
